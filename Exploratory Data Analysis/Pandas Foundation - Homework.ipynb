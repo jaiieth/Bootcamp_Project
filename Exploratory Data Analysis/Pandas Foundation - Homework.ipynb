{
 "cells":[
  {
   "cell_type":"markdown",
   "source":[
    "# Project"
   ],
   "attachments":{
    
   },
   "metadata":{
    "datalore":{
     "node_id":"Project",
     "type":"MD",
     "hide_input_from_viewers":false,
     "hide_output_from_viewers":false,
     "sheet_delimiter":true
    }
   }
  },
  {
   "cell_type":"markdown",
   "source":[
    "# Final Project - Analyzing Sales Data\n",
    "\n",
    "**Date**: 09 November 2022\n",
    "\n",
    "**Author**: Varis Anekboontaweechoke (Earth)\n",
    "\n",
    "**Course**: `Pandas Foundation`"
   ],
   "attachments":{
    
   },
   "metadata":{
    "datalore":{
     "node_id":"xaTqTAGvSg7knE3AW7GZPi",
     "type":"MD",
     "hide_input_from_viewers":false,
     "hide_output_from_viewers":false,
     "report_properties":{
      
     }
    }
   }
  },
  {
   "cell_type":"code",
   "source":[
    "# import data\n",
    "import pandas as pd\n",
    "df = pd.read_csv(\"sample-store.csv\")"
   ],
   "execution_count":null,
   "outputs":[
    
   ],
   "metadata":{
    "datalore":{
     "node_id":"yJlWeKd80WHew2NMObH1TJ",
     "type":"CODE",
     "hide_input_from_viewers":false,
     "hide_output_from_viewers":false,
     "report_properties":{
      
     }
    }
   }
  },
  {
   "cell_type":"code",
   "source":[
    "# preview top 5 rows\n",
    "df.head()"
   ],
   "execution_count":null,
   "outputs":[
    {
     "data":{
      "text\/html":[
       "<div>\n",
       "<style scoped>\n",
       "    .dataframe tbody tr th:only-of-type {\n",
       "        vertical-align: middle;\n",
       "    }\n",
       "\n",
       "    .dataframe tbody tr th {\n",
       "        vertical-align: top;\n",
       "    }\n",
       "\n",
       "    .dataframe thead th {\n",
       "        text-align: right;\n",
       "    }\n",
       "<\/style>\n",
       "<table border=\"1\" class=\"dataframe\">\n",
       "  <thead>\n",
       "    <tr style=\"text-align: right;\">\n",
       "      <th><\/th>\n",
       "      <th>Row ID<\/th>\n",
       "      <th>Order ID<\/th>\n",
       "      <th>Order Date<\/th>\n",
       "      <th>Ship Date<\/th>\n",
       "      <th>Ship Mode<\/th>\n",
       "      <th>Customer ID<\/th>\n",
       "      <th>Customer Name<\/th>\n",
       "      <th>Segment<\/th>\n",
       "      <th>Country\/Region<\/th>\n",
       "      <th>City<\/th>\n",
       "      <th>...<\/th>\n",
       "      <th>Postal Code<\/th>\n",
       "      <th>Region<\/th>\n",
       "      <th>Product ID<\/th>\n",
       "      <th>Category<\/th>\n",
       "      <th>Sub-Category<\/th>\n",
       "      <th>Product Name<\/th>\n",
       "      <th>Sales<\/th>\n",
       "      <th>Quantity<\/th>\n",
       "      <th>Discount<\/th>\n",
       "      <th>Profit<\/th>\n",
       "    <\/tr>\n",
       "  <\/thead>\n",
       "  <tbody>\n",
       "    <tr>\n",
       "      <th>0<\/th>\n",
       "      <td>1<\/td>\n",
       "      <td>CA-2019-152156<\/td>\n",
       "      <td>11\/8\/2019<\/td>\n",
       "      <td>11\/11\/2019<\/td>\n",
       "      <td>Second Class<\/td>\n",
       "      <td>CG-12520<\/td>\n",
       "      <td>Claire Gute<\/td>\n",
       "      <td>Consumer<\/td>\n",
       "      <td>United States<\/td>\n",
       "      <td>Henderson<\/td>\n",
       "      <td>...<\/td>\n",
       "      <td>42420.0<\/td>\n",
       "      <td>South<\/td>\n",
       "      <td>FUR-BO-10001798<\/td>\n",
       "      <td>Furniture<\/td>\n",
       "      <td>Bookcases<\/td>\n",
       "      <td>Bush Somerset Collection Bookcase<\/td>\n",
       "      <td>261.9600<\/td>\n",
       "      <td>2<\/td>\n",
       "      <td>0.00<\/td>\n",
       "      <td>41.9136<\/td>\n",
       "    <\/tr>\n",
       "    <tr>\n",
       "      <th>1<\/th>\n",
       "      <td>2<\/td>\n",
       "      <td>CA-2019-152156<\/td>\n",
       "      <td>11\/8\/2019<\/td>\n",
       "      <td>11\/11\/2019<\/td>\n",
       "      <td>Second Class<\/td>\n",
       "      <td>CG-12520<\/td>\n",
       "      <td>Claire Gute<\/td>\n",
       "      <td>Consumer<\/td>\n",
       "      <td>United States<\/td>\n",
       "      <td>Henderson<\/td>\n",
       "      <td>...<\/td>\n",
       "      <td>42420.0<\/td>\n",
       "      <td>South<\/td>\n",
       "      <td>FUR-CH-10000454<\/td>\n",
       "      <td>Furniture<\/td>\n",
       "      <td>Chairs<\/td>\n",
       "      <td>Hon Deluxe Fabric Upholstered Stacking Chairs,...<\/td>\n",
       "      <td>731.9400<\/td>\n",
       "      <td>3<\/td>\n",
       "      <td>0.00<\/td>\n",
       "      <td>219.5820<\/td>\n",
       "    <\/tr>\n",
       "    <tr>\n",
       "      <th>2<\/th>\n",
       "      <td>3<\/td>\n",
       "      <td>CA-2019-138688<\/td>\n",
       "      <td>6\/12\/2019<\/td>\n",
       "      <td>6\/16\/2019<\/td>\n",
       "      <td>Second Class<\/td>\n",
       "      <td>DV-13045<\/td>\n",
       "      <td>Darrin Van Huff<\/td>\n",
       "      <td>Corporate<\/td>\n",
       "      <td>United States<\/td>\n",
       "      <td>Los Angeles<\/td>\n",
       "      <td>...<\/td>\n",
       "      <td>90036.0<\/td>\n",
       "      <td>West<\/td>\n",
       "      <td>OFF-LA-10000240<\/td>\n",
       "      <td>Office Supplies<\/td>\n",
       "      <td>Labels<\/td>\n",
       "      <td>Self-Adhesive Address Labels for Typewriters b...<\/td>\n",
       "      <td>14.6200<\/td>\n",
       "      <td>2<\/td>\n",
       "      <td>0.00<\/td>\n",
       "      <td>6.8714<\/td>\n",
       "    <\/tr>\n",
       "    <tr>\n",
       "      <th>3<\/th>\n",
       "      <td>4<\/td>\n",
       "      <td>US-2018-108966<\/td>\n",
       "      <td>10\/11\/2018<\/td>\n",
       "      <td>10\/18\/2018<\/td>\n",
       "      <td>Standard Class<\/td>\n",
       "      <td>SO-20335<\/td>\n",
       "      <td>Sean O'Donnell<\/td>\n",
       "      <td>Consumer<\/td>\n",
       "      <td>United States<\/td>\n",
       "      <td>Fort Lauderdale<\/td>\n",
       "      <td>...<\/td>\n",
       "      <td>33311.0<\/td>\n",
       "      <td>South<\/td>\n",
       "      <td>FUR-TA-10000577<\/td>\n",
       "      <td>Furniture<\/td>\n",
       "      <td>Tables<\/td>\n",
       "      <td>Bretford CR4500 Series Slim Rectangular Table<\/td>\n",
       "      <td>957.5775<\/td>\n",
       "      <td>5<\/td>\n",
       "      <td>0.45<\/td>\n",
       "      <td>-383.0310<\/td>\n",
       "    <\/tr>\n",
       "    <tr>\n",
       "      <th>4<\/th>\n",
       "      <td>5<\/td>\n",
       "      <td>US-2018-108966<\/td>\n",
       "      <td>10\/11\/2018<\/td>\n",
       "      <td>10\/18\/2018<\/td>\n",
       "      <td>Standard Class<\/td>\n",
       "      <td>SO-20335<\/td>\n",
       "      <td>Sean O'Donnell<\/td>\n",
       "      <td>Consumer<\/td>\n",
       "      <td>United States<\/td>\n",
       "      <td>Fort Lauderdale<\/td>\n",
       "      <td>...<\/td>\n",
       "      <td>33311.0<\/td>\n",
       "      <td>South<\/td>\n",
       "      <td>OFF-ST-10000760<\/td>\n",
       "      <td>Office Supplies<\/td>\n",
       "      <td>Storage<\/td>\n",
       "      <td>Eldon Fold 'N Roll Cart System<\/td>\n",
       "      <td>22.3680<\/td>\n",
       "      <td>2<\/td>\n",
       "      <td>0.20<\/td>\n",
       "      <td>2.5164<\/td>\n",
       "    <\/tr>\n",
       "  <\/tbody>\n",
       "<\/table>\n",
       "<p>5 rows × 21 columns<\/p>\n",
       "<\/div>"
      ]
     },
     "metadata":{
      
     },
     "output_type":"display_data"
    }
   ],
   "metadata":{
    "datalore":{
     "node_id":"RaheXGKSps6MoqaUXQdXZ9",
     "type":"CODE",
     "hide_input_from_viewers":false,
     "hide_output_from_viewers":false,
     "report_properties":{
      
     }
    }
   }
  },
  {
   "cell_type":"code",
   "source":[
    "# shape of dataframe\n",
    "df.shape"
   ],
   "execution_count":null,
   "outputs":[
    {
     "data":{
      "text\/plain":[
       "(9994, 21)"
      ]
     },
     "metadata":{
      
     },
     "output_type":"display_data"
    }
   ],
   "metadata":{
    "datalore":{
     "node_id":"SEYgKc78DKAllW3MTAJFLx",
     "type":"CODE",
     "hide_input_from_viewers":false,
     "hide_output_from_viewers":false,
     "report_properties":{
      
     }
    }
   }
  },
  {
   "cell_type":"code",
   "source":[
    "# see data frame information using .info()\n",
    "df.info()"
   ],
   "execution_count":null,
   "outputs":[
    {
     "name":"stdout",
     "text":[
      "<class 'pandas.core.frame.DataFrame'>\n",
      "RangeIndex: 9994 entries, 0 to 9993\n",
      "Data columns (total 21 columns):\n",
      " #   Column          Non-Null Count  Dtype  \n",
      "---  ------          --------------  -----  \n",
      " 0   Row ID          9994 non-null   int64  \n",
      " 1   Order ID        9994 non-null   object \n",
      " 2   Order Date      9994 non-null   object \n",
      " 3   Ship Date       9994 non-null   object \n",
      " 4   Ship Mode       9994 non-null   object \n",
      " 5   Customer ID     9994 non-null   object \n",
      " 6   Customer Name   9994 non-null   object \n",
      " 7   Segment         9994 non-null   object \n",
      " 8   Country\/Region  9994 non-null   object \n",
      " 9   City            9994 non-null   object \n",
      " 10  State           9994 non-null   object \n",
      " 11  Postal Code     9983 non-null   float64\n",
      " 12  Region          9994 non-null   object \n",
      " 13  Product ID      9994 non-null   object \n",
      " 14  Category        9994 non-null   object \n",
      " 15  Sub-Category    9994 non-null   object \n",
      " 16  Product Name    9994 non-null   object \n",
      " 17  Sales           9994 non-null   float64\n",
      " 18  Quantity        9994 non-null   int64  \n",
      " 19  Discount        9994 non-null   float64\n",
      " 20  Profit          9994 non-null   float64\n",
      "dtypes: float64(4), int64(2), object(15)\n",
      "memory usage: 1.6+ MB\n"
     ],
     "output_type":"stream"
    }
   ],
   "metadata":{
    "datalore":{
     "node_id":"SqQzusPmwIEuIjYqKK9zLG",
     "type":"CODE",
     "hide_input_from_viewers":false,
     "hide_output_from_viewers":false,
     "report_properties":{
      
     }
    }
   }
  },
  {
   "cell_type":"markdown",
   "source":[
    "We can use `pd.to_datetime()` function to convert columns 'Order Date' and 'Ship Date' to datetime."
   ],
   "attachments":{
    
   },
   "metadata":{
    "datalore":{
     "node_id":"2q44oJqfnOeXtk3TgNTsrU",
     "type":"MD",
     "hide_input_from_viewers":false,
     "hide_output_from_viewers":false,
     "report_properties":{
      
     }
    }
   }
  },
  {
   "cell_type":"code",
   "source":[
    "# TODO - convert order date and ship date to datetime in the original dataframe\n",
    "df['Order Date'] = pd.to_datetime(df['Order Date'], format = '%m\/%d\/%Y')\n",
    "df['Ship Date'] = pd.to_datetime(df['Ship Date'], format = '%m\/%d\/%Y')\n",
    "df.info()"
   ],
   "execution_count":null,
   "outputs":[
    {
     "name":"stdout",
     "text":[
      "<class 'pandas.core.frame.DataFrame'>\n",
      "RangeIndex: 9994 entries, 0 to 9993\n",
      "Data columns (total 21 columns):\n",
      " #   Column          Non-Null Count  Dtype         \n",
      "---  ------          --------------  -----         \n",
      " 0   Row ID          9994 non-null   int64         \n",
      " 1   Order ID        9994 non-null   object        \n",
      " 2   Order Date      9994 non-null   datetime64[ns]\n",
      " 3   Ship Date       9994 non-null   datetime64[ns]\n",
      " 4   Ship Mode       9994 non-null   object        \n",
      " 5   Customer ID     9994 non-null   object        \n",
      " 6   Customer Name   9994 non-null   object        \n",
      " 7   Segment         9994 non-null   object        \n",
      " 8   Country\/Region  9994 non-null   object        \n",
      " 9   City            9994 non-null   object        \n",
      " 10  State           9994 non-null   object        \n",
      " 11  Postal Code     9983 non-null   float64       \n",
      " 12  Region          9994 non-null   object        \n",
      " 13  Product ID      9994 non-null   object        \n",
      " 14  Category        9994 non-null   object        \n",
      " 15  Sub-Category    9994 non-null   object        \n",
      " 16  Product Name    9994 non-null   object        \n",
      " 17  Sales           9994 non-null   float64       \n",
      " 18  Quantity        9994 non-null   int64         \n",
      " 19  Discount        9994 non-null   float64       \n",
      " 20  Profit          9994 non-null   float64       \n",
      "dtypes: datetime64[ns](2), float64(4), int64(2), object(13)\n",
      "memory usage: 1.6+ MB\n"
     ],
     "output_type":"stream"
    }
   ],
   "metadata":{
    "datalore":{
     "node_id":"UyoA0iUps5pXDWSdUPwGWB",
     "type":"CODE",
     "hide_input_from_viewers":false,
     "hide_output_from_viewers":false,
     "report_properties":{
      
     }
    }
   }
  },
  {
   "cell_type":"code",
   "source":[
    "# TODO - count nan in postal code column\n",
    "print('Postal Code missing values(n) :',df['Postal Code'].isna().sum())"
   ],
   "execution_count":null,
   "outputs":[
    {
     "name":"stdout",
     "text":[
      "Postal Code missing values(n) : 11\n"
     ],
     "output_type":"stream"
    }
   ],
   "metadata":{
    "datalore":{
     "node_id":"Zvl9vwiXuhP4EvZRpJtH3q",
     "type":"CODE",
     "hide_input_from_viewers":false,
     "hide_output_from_viewers":false,
     "report_properties":{
      
     }
    }
   }
  },
  {
   "cell_type":"code",
   "source":[
    "# TODO - Explore this dataset on your owns, ask your own questions\n",
    "# Top 10 Product that made highest profit\n",
    "print('#####Top 5 Product that made highest profit#####')\n",
    "print(df.groupby('Product Name').Profit.sum().nlargest(5).sort_values(ascending = False))\n",
    "# Top 10 Sub-Category that has highest average sales\n",
    "print('\\n#####Top 5 Sub-Category that had highest average sales#####')\n",
    "print(df.groupby('Sub-Category').Sales.mean().sort_values(ascending=False).head(5))\n",
    "# Top 3 spender from each segment\n",
    "print('\\n#####Top 3 spender from each segment#####')\n",
    "print(df.groupby(['Segment','Customer Name'])\\\n",
    "    .Sales.sum()\\\n",
    "    .reset_index()\\\n",
    "    .sort_values(['Segment','Sales'],ascending=False)\\\n",
    "    .groupby('Segment')\\\n",
    "    .head(3))"
   ],
   "execution_count":null,
   "outputs":[
    {
     "name":"stdout",
     "text":[
      "#####Top 5 Product that made highest profit#####\n",
      "Product Name\n",
      "Canon imageCLASS 2200 Advanced Copier                                          25199.9280\n",
      "Fellowes PB500 Electric Punch Plastic Comb Binding Machine with Manual Bind     7753.0390\n",
      "Hewlett Packard LaserJet 3310 Copier                                            6983.8836\n",
      "Canon PC1060 Personal Laser Copier                                              4570.9347\n",
      "HP Designjet T520 Inkjet Large Format Printer - 24\" Color                       4094.9766\n",
      "Name: Profit, dtype: float64\n",
      "\n",
      "#####Top 5 Sub-Category that had highest average sales#####\n",
      "Sub-Category\n",
      "Copiers      2198.941618\n",
      "Machines     1645.553313\n",
      "Tables        648.794771\n",
      "Chairs        532.332420\n",
      "Bookcases     503.859633\n",
      "Name: Sales, dtype: float64\n",
      "\n",
      "#####Top 3 spender from each segment#####\n",
      "         Segment  Customer Name      Sales\n",
      "771  Home Office    Sean Miller  25043.050\n",
      "784  Home Office   Tom Ashbrook  14595.620\n",
      "723  Home Office  Maria Etezadi  10663.728\n",
      "627    Corporate   Tamara Chand  19052.218\n",
      "636    Corporate   Todd Sumrall  11891.751\n",
      "440    Corporate   Bill Shonely  10501.653\n",
      "316     Consumer   Raymond Buch  15117.339\n",
      "2       Consumer  Adrian Barton  14473.571\n",
      "226     Consumer   Ken Lonsdale  14175.229\n"
     ],
     "output_type":"stream"
    }
   ],
   "metadata":{
    "datalore":{
     "node_id":"msqSwCHQJsVhRlNRusbTUE",
     "type":"CODE",
     "hide_input_from_viewers":false,
     "hide_output_from_viewers":false,
     "report_properties":{
      
     }
    }
   }
  },
  {
   "cell_type":"code",
   "source":[
    "# TODO - filter rows with missing values\n",
    "df[df.isna().any(axis=1)].reset_index(drop=True)"
   ],
   "execution_count":null,
   "outputs":[
    {
     "data":{
      "text\/html":[
       "<div>\n",
       "<style scoped>\n",
       "    .dataframe tbody tr th:only-of-type {\n",
       "        vertical-align: middle;\n",
       "    }\n",
       "\n",
       "    .dataframe tbody tr th {\n",
       "        vertical-align: top;\n",
       "    }\n",
       "\n",
       "    .dataframe thead th {\n",
       "        text-align: right;\n",
       "    }\n",
       "<\/style>\n",
       "<table border=\"1\" class=\"dataframe\">\n",
       "  <thead>\n",
       "    <tr style=\"text-align: right;\">\n",
       "      <th><\/th>\n",
       "      <th>Row ID<\/th>\n",
       "      <th>Order ID<\/th>\n",
       "      <th>Order Date<\/th>\n",
       "      <th>Ship Date<\/th>\n",
       "      <th>Ship Mode<\/th>\n",
       "      <th>Customer ID<\/th>\n",
       "      <th>Customer Name<\/th>\n",
       "      <th>Segment<\/th>\n",
       "      <th>Country\/Region<\/th>\n",
       "      <th>City<\/th>\n",
       "      <th>...<\/th>\n",
       "      <th>Postal Code<\/th>\n",
       "      <th>Region<\/th>\n",
       "      <th>Product ID<\/th>\n",
       "      <th>Category<\/th>\n",
       "      <th>Sub-Category<\/th>\n",
       "      <th>Product Name<\/th>\n",
       "      <th>Sales<\/th>\n",
       "      <th>Quantity<\/th>\n",
       "      <th>Discount<\/th>\n",
       "      <th>Profit<\/th>\n",
       "    <\/tr>\n",
       "  <\/thead>\n",
       "  <tbody>\n",
       "    <tr>\n",
       "      <th>0<\/th>\n",
       "      <td>2235<\/td>\n",
       "      <td>CA-2020-104066<\/td>\n",
       "      <td>12\/5\/2020<\/td>\n",
       "      <td>12\/10\/2020<\/td>\n",
       "      <td>Standard Class<\/td>\n",
       "      <td>QJ-19255<\/td>\n",
       "      <td>Quincy Jones<\/td>\n",
       "      <td>Corporate<\/td>\n",
       "      <td>United States<\/td>\n",
       "      <td>Burlington<\/td>\n",
       "      <td>...<\/td>\n",
       "      <td>NaN<\/td>\n",
       "      <td>East<\/td>\n",
       "      <td>TEC-AC-10001013<\/td>\n",
       "      <td>Technology<\/td>\n",
       "      <td>Accessories<\/td>\n",
       "      <td>Logitech ClearChat Comfort\/USB Headset H390<\/td>\n",
       "      <td>205.03<\/td>\n",
       "      <td>7<\/td>\n",
       "      <td>0.0<\/td>\n",
       "      <td>67.6599<\/td>\n",
       "    <\/tr>\n",
       "    <tr>\n",
       "      <th>1<\/th>\n",
       "      <td>5275<\/td>\n",
       "      <td>CA-2018-162887<\/td>\n",
       "      <td>11\/7\/2018<\/td>\n",
       "      <td>11\/9\/2018<\/td>\n",
       "      <td>Second Class<\/td>\n",
       "      <td>SV-20785<\/td>\n",
       "      <td>Stewart Visinsky<\/td>\n",
       "      <td>Consumer<\/td>\n",
       "      <td>United States<\/td>\n",
       "      <td>Burlington<\/td>\n",
       "      <td>...<\/td>\n",
       "      <td>NaN<\/td>\n",
       "      <td>East<\/td>\n",
       "      <td>FUR-CH-10000595<\/td>\n",
       "      <td>Furniture<\/td>\n",
       "      <td>Chairs<\/td>\n",
       "      <td>Safco Contoured Stacking Chairs<\/td>\n",
       "      <td>715.20<\/td>\n",
       "      <td>3<\/td>\n",
       "      <td>0.0<\/td>\n",
       "      <td>178.8000<\/td>\n",
       "    <\/tr>\n",
       "    <tr>\n",
       "      <th>2<\/th>\n",
       "      <td>8799<\/td>\n",
       "      <td>US-2019-150140<\/td>\n",
       "      <td>4\/6\/2019<\/td>\n",
       "      <td>4\/10\/2019<\/td>\n",
       "      <td>Standard Class<\/td>\n",
       "      <td>VM-21685<\/td>\n",
       "      <td>Valerie Mitchum<\/td>\n",
       "      <td>Home Office<\/td>\n",
       "      <td>United States<\/td>\n",
       "      <td>Burlington<\/td>\n",
       "      <td>...<\/td>\n",
       "      <td>NaN<\/td>\n",
       "      <td>East<\/td>\n",
       "      <td>TEC-PH-10002555<\/td>\n",
       "      <td>Technology<\/td>\n",
       "      <td>Phones<\/td>\n",
       "      <td>Nortel Meridian M5316 Digital phone<\/td>\n",
       "      <td>1294.75<\/td>\n",
       "      <td>5<\/td>\n",
       "      <td>0.0<\/td>\n",
       "      <td>336.6350<\/td>\n",
       "    <\/tr>\n",
       "    <tr>\n",
       "      <th>3<\/th>\n",
       "      <td>9147<\/td>\n",
       "      <td>US-2019-165505<\/td>\n",
       "      <td>1\/23\/2019<\/td>\n",
       "      <td>1\/27\/2019<\/td>\n",
       "      <td>Standard Class<\/td>\n",
       "      <td>CB-12535<\/td>\n",
       "      <td>Claudia Bergmann<\/td>\n",
       "      <td>Corporate<\/td>\n",
       "      <td>United States<\/td>\n",
       "      <td>Burlington<\/td>\n",
       "      <td>...<\/td>\n",
       "      <td>NaN<\/td>\n",
       "      <td>East<\/td>\n",
       "      <td>TEC-AC-10002926<\/td>\n",
       "      <td>Technology<\/td>\n",
       "      <td>Accessories<\/td>\n",
       "      <td>Logitech Wireless Marathon Mouse M705<\/td>\n",
       "      <td>99.98<\/td>\n",
       "      <td>2<\/td>\n",
       "      <td>0.0<\/td>\n",
       "      <td>42.9914<\/td>\n",
       "    <\/tr>\n",
       "    <tr>\n",
       "      <th>4<\/th>\n",
       "      <td>9148<\/td>\n",
       "      <td>US-2019-165505<\/td>\n",
       "      <td>1\/23\/2019<\/td>\n",
       "      <td>1\/27\/2019<\/td>\n",
       "      <td>Standard Class<\/td>\n",
       "      <td>CB-12535<\/td>\n",
       "      <td>Claudia Bergmann<\/td>\n",
       "      <td>Corporate<\/td>\n",
       "      <td>United States<\/td>\n",
       "      <td>Burlington<\/td>\n",
       "      <td>...<\/td>\n",
       "      <td>NaN<\/td>\n",
       "      <td>East<\/td>\n",
       "      <td>OFF-AR-10003477<\/td>\n",
       "      <td>Office Supplies<\/td>\n",
       "      <td>Art<\/td>\n",
       "      <td>4009 Highlighters<\/td>\n",
       "      <td>8.04<\/td>\n",
       "      <td>6<\/td>\n",
       "      <td>0.0<\/td>\n",
       "      <td>2.7336<\/td>\n",
       "    <\/tr>\n",
       "    <tr>\n",
       "      <th>5<\/th>\n",
       "      <td>9149<\/td>\n",
       "      <td>US-2019-165505<\/td>\n",
       "      <td>1\/23\/2019<\/td>\n",
       "      <td>1\/27\/2019<\/td>\n",
       "      <td>Standard Class<\/td>\n",
       "      <td>CB-12535<\/td>\n",
       "      <td>Claudia Bergmann<\/td>\n",
       "      <td>Corporate<\/td>\n",
       "      <td>United States<\/td>\n",
       "      <td>Burlington<\/td>\n",
       "      <td>...<\/td>\n",
       "      <td>NaN<\/td>\n",
       "      <td>East<\/td>\n",
       "      <td>OFF-ST-10001526<\/td>\n",
       "      <td>Office Supplies<\/td>\n",
       "      <td>Storage<\/td>\n",
       "      <td>Iceberg Mobile Mega Data\/Printer Cart<\/td>\n",
       "      <td>1564.29<\/td>\n",
       "      <td>13<\/td>\n",
       "      <td>0.0<\/td>\n",
       "      <td>406.7154<\/td>\n",
       "    <\/tr>\n",
       "    <tr>\n",
       "      <th>6<\/th>\n",
       "      <td>9387<\/td>\n",
       "      <td>US-2020-127292<\/td>\n",
       "      <td>1\/19\/2020<\/td>\n",
       "      <td>1\/23\/2020<\/td>\n",
       "      <td>Standard Class<\/td>\n",
       "      <td>RM-19375<\/td>\n",
       "      <td>Raymond Messe<\/td>\n",
       "      <td>Consumer<\/td>\n",
       "      <td>United States<\/td>\n",
       "      <td>Burlington<\/td>\n",
       "      <td>...<\/td>\n",
       "      <td>NaN<\/td>\n",
       "      <td>East<\/td>\n",
       "      <td>OFF-PA-10000157<\/td>\n",
       "      <td>Office Supplies<\/td>\n",
       "      <td>Paper<\/td>\n",
       "      <td>Xerox 191<\/td>\n",
       "      <td>79.92<\/td>\n",
       "      <td>4<\/td>\n",
       "      <td>0.0<\/td>\n",
       "      <td>37.5624<\/td>\n",
       "    <\/tr>\n",
       "    <tr>\n",
       "      <th>7<\/th>\n",
       "      <td>9388<\/td>\n",
       "      <td>US-2020-127292<\/td>\n",
       "      <td>1\/19\/2020<\/td>\n",
       "      <td>1\/23\/2020<\/td>\n",
       "      <td>Standard Class<\/td>\n",
       "      <td>RM-19375<\/td>\n",
       "      <td>Raymond Messe<\/td>\n",
       "      <td>Consumer<\/td>\n",
       "      <td>United States<\/td>\n",
       "      <td>Burlington<\/td>\n",
       "      <td>...<\/td>\n",
       "      <td>NaN<\/td>\n",
       "      <td>East<\/td>\n",
       "      <td>OFF-PA-10001970<\/td>\n",
       "      <td>Office Supplies<\/td>\n",
       "      <td>Paper<\/td>\n",
       "      <td>Xerox 1881<\/td>\n",
       "      <td>12.28<\/td>\n",
       "      <td>1<\/td>\n",
       "      <td>0.0<\/td>\n",
       "      <td>5.7716<\/td>\n",
       "    <\/tr>\n",
       "    <tr>\n",
       "      <th>8<\/th>\n",
       "      <td>9389<\/td>\n",
       "      <td>US-2020-127292<\/td>\n",
       "      <td>1\/19\/2020<\/td>\n",
       "      <td>1\/23\/2020<\/td>\n",
       "      <td>Standard Class<\/td>\n",
       "      <td>RM-19375<\/td>\n",
       "      <td>Raymond Messe<\/td>\n",
       "      <td>Consumer<\/td>\n",
       "      <td>United States<\/td>\n",
       "      <td>Burlington<\/td>\n",
       "      <td>...<\/td>\n",
       "      <td>NaN<\/td>\n",
       "      <td>East<\/td>\n",
       "      <td>OFF-AP-10000828<\/td>\n",
       "      <td>Office Supplies<\/td>\n",
       "      <td>Appliances<\/td>\n",
       "      <td>Avanti 4.4 Cu. Ft. Refrigerator<\/td>\n",
       "      <td>542.94<\/td>\n",
       "      <td>3<\/td>\n",
       "      <td>0.0<\/td>\n",
       "      <td>152.0232<\/td>\n",
       "    <\/tr>\n",
       "    <tr>\n",
       "      <th>9<\/th>\n",
       "      <td>9390<\/td>\n",
       "      <td>US-2020-127292<\/td>\n",
       "      <td>1\/19\/2020<\/td>\n",
       "      <td>1\/23\/2020<\/td>\n",
       "      <td>Standard Class<\/td>\n",
       "      <td>RM-19375<\/td>\n",
       "      <td>Raymond Messe<\/td>\n",
       "      <td>Consumer<\/td>\n",
       "      <td>United States<\/td>\n",
       "      <td>Burlington<\/td>\n",
       "      <td>...<\/td>\n",
       "      <td>NaN<\/td>\n",
       "      <td>East<\/td>\n",
       "      <td>OFF-EN-10001509<\/td>\n",
       "      <td>Office Supplies<\/td>\n",
       "      <td>Envelopes<\/td>\n",
       "      <td>Poly String Tie Envelopes<\/td>\n",
       "      <td>2.04<\/td>\n",
       "      <td>1<\/td>\n",
       "      <td>0.0<\/td>\n",
       "      <td>0.9588<\/td>\n",
       "    <\/tr>\n",
       "    <tr>\n",
       "      <th>10<\/th>\n",
       "      <td>9742<\/td>\n",
       "      <td>CA-2018-117086<\/td>\n",
       "      <td>11\/8\/2018<\/td>\n",
       "      <td>11\/12\/2018<\/td>\n",
       "      <td>Standard Class<\/td>\n",
       "      <td>QJ-19255<\/td>\n",
       "      <td>Quincy Jones<\/td>\n",
       "      <td>Corporate<\/td>\n",
       "      <td>United States<\/td>\n",
       "      <td>Burlington<\/td>\n",
       "      <td>...<\/td>\n",
       "      <td>NaN<\/td>\n",
       "      <td>East<\/td>\n",
       "      <td>FUR-BO-10004834<\/td>\n",
       "      <td>Furniture<\/td>\n",
       "      <td>Bookcases<\/td>\n",
       "      <td>Riverside Palais Royal Lawyers Bookcase, Royal...<\/td>\n",
       "      <td>4404.90<\/td>\n",
       "      <td>5<\/td>\n",
       "      <td>0.0<\/td>\n",
       "      <td>1013.1270<\/td>\n",
       "    <\/tr>\n",
       "  <\/tbody>\n",
       "<\/table>\n",
       "<p>11 rows × 21 columns<\/p>\n",
       "<\/div>"
      ]
     },
     "metadata":{
      
     },
     "output_type":"display_data"
    }
   ],
   "metadata":{
    "datalore":{
     "node_id":"9lHrpK7DXsgM8Io4XpGhMi",
     "type":"CODE",
     "hide_input_from_viewers":false,
     "hide_output_from_viewers":false,
     "report_properties":{
      
     }
    }
   }
  },
  {
   "cell_type":"markdown",
   "source":[
    "## Data Analysis Part\n",
    "\n",
    "Answer 10 below questions to get credit from this course. Write `pandas` code to find answers."
   ],
   "attachments":{
    
   },
   "metadata":{
    "datalore":{
     "node_id":"MtQQFsvYAq6tAP9aBYrKc3",
     "type":"MD",
     "hide_input_from_viewers":false,
     "hide_output_from_viewers":false,
     "report_properties":{
      
     }
    }
   }
  },
  {
   "cell_type":"code",
   "source":[
    "# TODO 01 - how many columns, rows in this dataset\n",
    "# nrow\n",
    "print('rows:',df.shape[0])\n",
    "#len(df)\n",
    "# ncol\n",
    "print('cols:',len(df.columns))\n",
    "#df.shape[1]"
   ],
   "execution_count":null,
   "outputs":[
    {
     "name":"stdout",
     "text":[
      "rows: 9994\n",
      "cols: 22\n"
     ],
     "output_type":"stream"
    }
   ],
   "metadata":{
    "datalore":{
     "node_id":"dhI4uYYpcq9phONOxQwTYO",
     "type":"CODE",
     "hide_input_from_viewers":false,
     "hide_output_from_viewers":false,
     "report_properties":{
      
     }
    }
   }
  },
  {
   "cell_type":"code",
   "source":[
    "# TODO 02 - is there any missing values?, if there is, which colunm? how many nan values?\n",
    "print(df.isna().sum())"
   ],
   "execution_count":null,
   "outputs":[
    {
     "name":"stdout",
     "text":[
      "Row ID             0\n",
      "Order ID           0\n",
      "Order Date         0\n",
      "Ship Date          0\n",
      "Ship Mode          0\n",
      "Customer ID        0\n",
      "Customer Name      0\n",
      "Segment            0\n",
      "Country\/Region     0\n",
      "City               0\n",
      "State              0\n",
      "Postal Code       11\n",
      "Region             0\n",
      "Product ID         0\n",
      "Category           0\n",
      "Sub-Category       0\n",
      "Product Name       0\n",
      "Sales              0\n",
      "Quantity           0\n",
      "Discount           0\n",
      "Profit             0\n",
      "dtype: int64\n"
     ],
     "output_type":"stream"
    }
   ],
   "metadata":{
    "datalore":{
     "node_id":"aqTaTZtxVR7ugFTs79a0eY",
     "type":"CODE",
     "hide_input_from_viewers":false,
     "hide_output_from_viewers":false,
     "report_properties":{
      
     }
    }
   }
  },
  {
   "cell_type":"code",
   "source":[
    "# TODO 03 - your friend ask for `California` data, filter it and export csv for \n",
    "df_california = df.query('State==\"California\"').reset_index(drop=True)\n",
    "df_california.to_csv(\"california.csv\")"
   ],
   "execution_count":null,
   "outputs":[
    
   ],
   "metadata":{
    "datalore":{
     "node_id":"1wqhVxrRM7d1se7zbQaI2O",
     "type":"CODE",
     "hide_input_from_viewers":false,
     "hide_output_from_viewers":false,
     "report_properties":{
      
     }
    }
   }
  },
  {
   "cell_type":"code",
   "source":[
    "# TODO 04 - your friend ask for all order data in `California` and `Texas` in 2017 (look at Order Date), send him csv file\n",
    "df_cal_tex_2017 = df[ (df.State.isin(['Texas','California'])) & (df['Order Date'].dt.year == 2017) ]\\\n",
    "    .reset_index(drop=True)\n",
    "df_cal_tex_2017.to_csv('df_cal_tex_2017.csv')"
   ],
   "execution_count":null,
   "outputs":[
    
   ],
   "metadata":{
    "datalore":{
     "node_id":"lafbtYPkB2Pb4ZJ61clBaY",
     "type":"CODE",
     "hide_input_from_viewers":false,
     "hide_output_from_viewers":false,
     "report_properties":{
      
     }
    }
   }
  },
  {
   "cell_type":"code",
   "source":[
    "# TODO 05 - how much total sales, average sales, and standard deviation of sales your company make in 2017\n",
    "print(df[df['Order Date'].dt.year == 2017].Sales.agg(['sum','mean','std']))"
   ],
   "execution_count":null,
   "outputs":[
    {
     "name":"stdout",
     "text":[
      "sum     484247.498100\n",
      "mean       242.974159\n",
      "std        754.053357\n",
      "Name: Sales, dtype: float64\n"
     ],
     "output_type":"stream"
    }
   ],
   "metadata":{
    "datalore":{
     "node_id":"afz85fHiBXMVfUiMbZerHN",
     "type":"CODE",
     "hide_input_from_viewers":false,
     "hide_output_from_viewers":false,
     "report_properties":{
      
     }
    }
   }
  },
  {
   "cell_type":"code",
   "source":[
    "# TODO 06 - which Segment has the highest profit in 2018\n",
    "print(\"Segment with highest profit in 2018: \",\\\n",
    "      df[df['Order Date'].dt.year == 2018].groupby('Segment').Profit.sum().nlargest(1))"
   ],
   "execution_count":null,
   "outputs":[
    {
     "name":"stdout",
     "text":[
      "Segment with highest profit in 2018:  Segment\n",
      "Consumer    28460.1665\n",
      "Name: Profit, dtype: float64\n"
     ],
     "output_type":"stream"
    }
   ],
   "metadata":{
    "datalore":{
     "node_id":"2TzZQ2Kt0WNNcB7gCtF1y4",
     "type":"CODE",
     "hide_input_from_viewers":false,
     "hide_output_from_viewers":false,
     "report_properties":{
      
     }
    }
   }
  },
  {
   "cell_type":"code",
   "source":[
    "# TODO 07 - which top 5 States have the least total sales between 15 April 2019 - 31 December 2019\n",
    "print(\"Top 5 States have the least total sales between 15 April 2019 - 31 December 2019\\n\",\\\n",
    "      df[df['Order Date'].between('2019-4-15','2019-12-31')].groupby('State').Sales.sum().nsmallest(5)\\\n",
    "        .reset_index()\\\n",
    "        .rename(columns={'State':'State','sum':'Sales'}))"
   ],
   "execution_count":null,
   "outputs":[
    {
     "name":"stdout",
     "text":[
      "Top 5 States have the least total sales between 15 April 2019 - 31 December 2019\n",
      "                   State   Sales\n",
      "0         New Hampshire   49.05\n",
      "1            New Mexico   64.08\n",
      "2  District of Columbia  117.07\n",
      "3             Louisiana  249.80\n",
      "4        South Carolina  502.48\n"
     ],
     "output_type":"stream"
    }
   ],
   "metadata":{
    "datalore":{
     "node_id":"yc6h6DmkD38pnGfGvG6EwU",
     "type":"CODE",
     "hide_input_from_viewers":false,
     "hide_output_from_viewers":false,
     "report_properties":{
      
     }
    }
   }
  },
  {
   "cell_type":"code",
   "source":[
    "# proportion of profit from each sub-categoryn 2017\n",
    "df1 = df[df['Order Date'].dt.year==2017].groupby('Sub-Category').Profit.sum()\n",
    "\n",
    "profit_subcat_2017 = (100*df1[df1>=0] \/ df1[df1>=0].sum()).sort_values(ascending=False)\n",
    "profit_subcat_2017 = profit_subcat_2017.reset_index().rename(columns={'Profit':'pct'})\n",
    "print(profit_subcat_2017)"
   ],
   "execution_count":null,
   "outputs":[
    {
     "name":"stdout",
     "text":[
      "   Sub-Category        pct\n",
      "0        Phones  22.273293\n",
      "1        Chairs  13.119218\n",
      "2   Accessories  12.077361\n",
      "3         Paper  12.017578\n",
      "4       Binders   8.940467\n",
      "5       Storage   7.858800\n",
      "6       Copiers   5.494649\n",
      "7    Appliances   4.639324\n",
      "8   Furnishings   3.721441\n",
      "9     Envelopes   2.820903\n",
      "10          Art   2.653635\n",
      "11       Labels   2.425774\n",
      "12     Supplies   0.924386\n",
      "13     Machines   0.696359\n",
      "14    Fasteners   0.336812\n"
     ],
     "output_type":"stream"
    }
   ],
   "metadata":{
    "datalore":{
     "node_id":"AuceKrdgkIsCyWcNiSiUgQ",
     "type":"CODE",
     "hide_input_from_viewers":false,
     "hide_output_from_viewers":false,
     "report_properties":{
      
     }
    }
   }
  },
  {
   "cell_type":"code",
   "source":[
    "# TODO 08 - what is the proportion of total sales (%) in West + Central in 2019 e.g. 25% \n",
    "df[(df['Order Date'].dt.year == 2019) & (df.Region.isin(['West','Central']))] \\\n",
    "    .Sales.sum()\/df[df['Order Date'].dt.year == 2019].Sales.sum()*100 "
   ],
   "execution_count":null,
   "outputs":[
    {
     "data":{
      "text\/plain":[
       "54.97479891837763"
      ]
     },
     "metadata":{
      
     },
     "output_type":"display_data"
    }
   ],
   "metadata":{
    "datalore":{
     "node_id":"dNHQSzmzSu5e0sbTiKQMU2",
     "type":"CODE",
     "hide_input_from_viewers":false,
     "hide_output_from_viewers":false,
     "report_properties":{
      
     }
    }
   }
  },
  {
   "cell_type":"code",
   "source":[
    "region_sales_prop_2017 = df[df['Order Date'].dt.year == 2017]\\\n",
    "    .groupby('Region')\\\n",
    "    .Sales.sum()\\\n",
    "    \/df[df['Order Date'].dt.year == 2017].Sales.sum()*100\n",
    "region_sales_prop_2017 = region_sales_prop_2017.reset_index().rename(columns={'Sales':'pct'}).sort_values('pct')\n",
    "print(region_sales_prop_2017)"
   ],
   "execution_count":null,
   "outputs":[
    {
     "name":"stdout",
     "text":[
      "    Region        pct\n",
      "0  Central  21.443201\n",
      "2    South  21.444787\n",
      "1     East  26.573283\n",
      "3     West  30.538729\n"
     ],
     "output_type":"stream"
    }
   ],
   "metadata":{
    "datalore":{
     "node_id":"q1XA6UQIWNQsTEJVG9x8Mo",
     "type":"CODE",
     "hide_input_from_viewers":false,
     "hide_output_from_viewers":false,
     "report_properties":{
      
     }
    }
   }
  },
  {
   "cell_type":"code",
   "source":[
    "# TODO 09 - find top 10 popular products in terms of number of orders vs. total sales during 2019-2020\n",
    "df[df['Order Date'].between('2019-01-01','2019-12-31')]\\\n",
    "    .groupby('Product Name')\\\n",
    "    .Sales.agg(['count','sum'])\\\n",
    "    .sort_values(['count','sum'],ascending=False)\\\n",
    "    .reset_index().rename(columns={'count':'n','sum':'sales'})"
   ],
   "execution_count":null,
   "outputs":[
    {
     "data":{
      "text\/html":[
       "<div>\n",
       "<style scoped>\n",
       "    .dataframe tbody tr th:only-of-type {\n",
       "        vertical-align: middle;\n",
       "    }\n",
       "\n",
       "    .dataframe tbody tr th {\n",
       "        vertical-align: top;\n",
       "    }\n",
       "\n",
       "    .dataframe thead th {\n",
       "        text-align: right;\n",
       "    }\n",
       "<\/style>\n",
       "<table border=\"1\" class=\"dataframe\">\n",
       "  <thead>\n",
       "    <tr style=\"text-align: right;\">\n",
       "      <th><\/th>\n",
       "      <th>Product Name<\/th>\n",
       "      <th>n<\/th>\n",
       "      <th>sales<\/th>\n",
       "    <\/tr>\n",
       "  <\/thead>\n",
       "  <tbody>\n",
       "    <tr>\n",
       "      <th>0<\/th>\n",
       "      <td>Easy-staple paper<\/td>\n",
       "      <td>11<\/td>\n",
       "      <td>455.652<\/td>\n",
       "    <\/tr>\n",
       "    <tr>\n",
       "      <th>1<\/th>\n",
       "      <td>Staple envelope<\/td>\n",
       "      <td>11<\/td>\n",
       "      <td>303.492<\/td>\n",
       "    <\/tr>\n",
       "    <tr>\n",
       "      <th>2<\/th>\n",
       "      <td>Chromcraft Round Conference Tables<\/td>\n",
       "      <td>9<\/td>\n",
       "      <td>5176.413<\/td>\n",
       "    <\/tr>\n",
       "    <tr>\n",
       "      <th>3<\/th>\n",
       "      <td>Staples<\/td>\n",
       "      <td>9<\/td>\n",
       "      <td>227.612<\/td>\n",
       "    <\/tr>\n",
       "    <tr>\n",
       "      <th>4<\/th>\n",
       "      <td>XtraLife ClearVue Slant-D Ring Binder, White, 3\"<\/td>\n",
       "      <td>7<\/td>\n",
       "      <td>227.540<\/td>\n",
       "    <\/tr>\n",
       "    <tr>\n",
       "      <th>...<\/th>\n",
       "      <td>...<\/td>\n",
       "      <td>...<\/td>\n",
       "      <td>...<\/td>\n",
       "    <\/tr>\n",
       "    <tr>\n",
       "      <th>1357<\/th>\n",
       "      <td>Acco Banker's Clasps, 5 3\/4\"-Long<\/td>\n",
       "      <td>1<\/td>\n",
       "      <td>2.304<\/td>\n",
       "    <\/tr>\n",
       "    <tr>\n",
       "      <th>1358<\/th>\n",
       "      <td>Maxell 4.7GB DVD+R 5\/Pack<\/td>\n",
       "      <td>1<\/td>\n",
       "      <td>1.980<\/td>\n",
       "    <\/tr>\n",
       "    <tr>\n",
       "      <th>1359<\/th>\n",
       "      <td>Avery Durable Binders<\/td>\n",
       "      <td>1<\/td>\n",
       "      <td>1.728<\/td>\n",
       "    <\/tr>\n",
       "    <tr>\n",
       "      <th>1360<\/th>\n",
       "      <td>OIC #2 Pencils, Medium Soft<\/td>\n",
       "      <td>1<\/td>\n",
       "      <td>1.504<\/td>\n",
       "    <\/tr>\n",
       "    <tr>\n",
       "      <th>1361<\/th>\n",
       "      <td>Newell 310<\/td>\n",
       "      <td>1<\/td>\n",
       "      <td>1.408<\/td>\n",
       "    <\/tr>\n",
       "  <\/tbody>\n",
       "<\/table>\n",
       "<p>1362 rows × 3 columns<\/p>\n",
       "<\/div>"
      ]
     },
     "metadata":{
      
     },
     "output_type":"display_data"
    }
   ],
   "metadata":{
    "datalore":{
     "node_id":"oyW94ITa57i4ucg700qeEU",
     "type":"CODE",
     "hide_input_from_viewers":false,
     "hide_output_from_viewers":false,
     "report_properties":{
      
     }
    }
   }
  },
  {
   "cell_type":"code",
   "source":[
    "# TODO 10 - plot at least 2 plots, any plot you think interesting :)\n",
    "# Pie chart of sales for each region in 2017\n",
    "region_sales_prop_2017.plot.pie(title='Sales(%) for each region in 2017',\n",
    "                                autopct=\"%.2f\",\n",
    "                                fontsize=15,\n",
    "                                figsize=(8,8));"
   ],
   "execution_count":null,
   "outputs":[
    {
     "data":{
      "image\/png":"[encoded data removed]"
     },
     "metadata":{
      "image\/png":{
       
      }
     },
     "output_type":"display_data"
    }
   ],
   "metadata":{
    "datalore":{
     "node_id":"O3Oqdioc5pSfZU27fH9uXq",
     "type":"CODE",
     "hide_input_from_viewers":false,
     "hide_output_from_viewers":false,
     "report_properties":{
      
     }
    }
   }
  },
  {
   "cell_type":"code",
   "source":[
    "# Pie chart of profit for each sub-category in 2017\n",
    "profit_subcat_2017.plot.pie(title='Profit(%) for each sub-category in 2017',\n",
    "                            autopct=\"%.2f\",\n",
    "                            fontsize=10,\n",
    "                            figsize=(8,8));"
   ],
   "execution_count":null,
   "outputs":[
    {
     "data":{
      "image\/png":"[encoded data removed]"
     },
     "metadata":{
      "image\/png":{
       
      }
     },
     "output_type":"display_data"
    }
   ],
   "metadata":{
    "datalore":{
     "node_id":"EQEFAhtoThW31GhIvCPoNP",
     "type":"CODE",
     "hide_input_from_viewers":false,
     "hide_output_from_viewers":false,
     "report_properties":{
      
     }
    }
   }
  },
  {
   "cell_type":"code",
   "source":[
    "top5_product_profit = df.groupby('Product Name').Profit.sum().nlargest(5).sort_values(ascending = True)\n",
    "top5_product_profit.plot.barh(title='Top 5 products that made highest profit',color='salmon');"
   ],
   "execution_count":null,
   "outputs":[
    {
     "data":{
      "image\/png":"[encoded data removed]"
     },
     "metadata":{
      "image\/png":{
       
      }
     },
     "output_type":"display_data"
    }
   ],
   "metadata":{
    "datalore":{
     "node_id":"OOEX9iKn5Oc0IlFrYWBGpf",
     "type":"CODE",
     "hide_input_from_viewers":false,
     "hide_output_from_viewers":false,
     "report_properties":{
      
     }
    }
   }
  },
  {
   "cell_type":"code",
   "source":[
    "# TODO Bonus - use np.where() to create new column in dataframe to help you answer your own questions\n",
    "import numpy as np\n",
    "df['profit\/loss'] = np.where(df.Profit>0,'Profit','Loss')\n",
    "print(df['profit\/loss'].value_counts())"
   ],
   "execution_count":null,
   "outputs":[
    {
     "name":"stdout",
     "text":[
      "Profit    8058\n",
      "Loss      1936\n",
      "Name: profit\/loss, dtype: int64\n"
     ],
     "output_type":"stream"
    }
   ],
   "metadata":{
    "datalore":{
     "node_id":"Sff0n4i8SOtAReC901aLo2",
     "type":"CODE",
     "hide_input_from_viewers":false,
     "hide_output_from_viewers":false,
     "report_properties":{
      
     }
    }
   }
  }
 ],
 "metadata":{
  "kernelspec":{
   "display_name":"Python",
   "language":"python",
   "name":"python"
  },
  "datalore":{
   "version":1,
   "computation_mode":"JUPYTER",
   "package_manager":"pip",
   "base_environment":"default",
   "packages":[
    
   ]
  }
 },
 "nbformat":4,
 "nbformat_minor":4
}