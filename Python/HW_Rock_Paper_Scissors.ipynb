{
  "cells": [
    {
      "cell_type": "markdown",
      "metadata": {
        "id": "view-in-github",
        "colab_type": "text"
      },
      "source": [
        "<a href=\"https://colab.research.google.com/github/jaiieth/DataRockie-Bootcamp_Project/blob/main/Python/HW_Rock_Paper_Scissors.ipynb\" target=\"_parent\"><img src=\"https://colab.research.google.com/assets/colab-badge.svg\" alt=\"Open In Colab\"/></a>"
      ]
    },
    {
      "cell_type": "markdown",
      "source": [
        "## Import all essential libraries"
      ],
      "metadata": {
        "id": "j6h_yDkzjXdw"
      }
    },
    {
      "cell_type": "code",
      "execution_count": 1,
      "metadata": {
        "id": "ieyar6ozYh21"
      },
      "outputs": [],
      "source": [
        "from random import choice\n",
        "from datetime import datetime\n",
        "from time import sleep\n",
        "import pandas as pd\n",
        "import warnings\n",
        "warnings.simplefilter(action='ignore', category=FutureWarning)\n"
      ]
    },
    {
      "cell_type": "markdown",
      "source": [
        "## Define Functions"
      ],
      "metadata": {
        "id": "7q8x5U-qjcyq"
      }
    },
    {
      "cell_type": "code",
      "execution_count": 2,
      "metadata": {
        "id": "csAJPJ0RYh27"
      },
      "outputs": [],
      "source": [
        "hands = ['Rock','Paper','Scissors']\n",
        "    \n",
        "    #hand functions\n",
        "def random():\n",
        "    return choice(hands)\n",
        "def choose():\n",
        "    select = int(input('Choose your hand'))\n",
        "    return hands[select-1]\n",
        "        "
      ]
    },
    {
      "cell_type": "code",
      "execution_count": 3,
      "metadata": {
        "id": "GWtsAqOHYh27"
      },
      "outputs": [],
      "source": [
        "# game functions\n",
        "def mainmenu():\n",
        "    while True:\n",
        "        sleep(0.1)\n",
        "        print('### Main menu ###')\n",
        "        print('(1) Start Game')\n",
        "        print('(2) Stats')\n",
        "        print('(3) Exit')\n",
        "        menu_sel = input('Please enter number: ')\n",
        "        if not(menu_sel in ['1','2','3']):\n",
        "            print('Please enter number')\n",
        "        elif menu_sel == '1':\n",
        "            sleep(0.1)\n",
        "            play()\n",
        "        elif menu_sel == '2':\n",
        "            if len(stat)!=0:\n",
        "                stat_disp()\n",
        "            else:\n",
        "                print('No stat found')\n",
        "                sleep(0.1)\n",
        "        else:\n",
        "            print('Thank you for playing')\n",
        "            break;\n",
        "    \n",
        "def play():\n",
        "    goback = 0\n",
        "    while goback == 0:\n",
        "        print(f'Streak: {streak}')\n",
        "        print('Choose your hand')\n",
        "        print('(1) Rock')\n",
        "        print('(2) Paper')\n",
        "        print('(3) Scissor')\n",
        "        print('(4) Main Menu')\n",
        "        select = input('Choose your hand: ')\n",
        "        if not (select in ['1','2','3','4']):\n",
        "            select = input('Choose your hand: ')\n",
        "            sleep(0.3)\n",
        "        elif select in ['1','2','3']:\n",
        "            global gameno\n",
        "            gameno += 1\n",
        "            global user\n",
        "            user = hands[int(select)-1]\n",
        "            com = random()\n",
        "            print(f'You Choose: {user}')\n",
        "            sleep(0.1)\n",
        "            print(f'Com Choose: {com}')\n",
        "            sleep(0.1)\n",
        "            if (((user == hands[0]) & (com == hands[0]))|\n",
        "                ((user == hands[1]) & (com == hands[1]))|\n",
        "                ((user == hands[2]) & (com == hands[2]))):\n",
        "                draw()\n",
        "                save()\n",
        "                sleep(0.1)\n",
        "            elif (((user == hands[0]) & (com == hands[1]))|\n",
        "                ((user == hands[1]) & (com == hands[2]))|\n",
        "                ((user == hands[2]) & (com == hands[0]))):\n",
        "                lose()\n",
        "                save()\n",
        "                sleep(0.1)\n",
        "            else:\n",
        "                win()\n",
        "                save()\n",
        "                sleep(0.1)\n",
        "        else: \n",
        "            goback = 1\n",
        "            mainmenu()          \n",
        "            sleep(0.1)   \n",
        "            \n",
        "def save():\n",
        "    global stat\n",
        "    newstat = pd.Series({'Game_No':gameno,\n",
        "                    'Date':datetime.now().strftime('%Y-%m-%d %H:%M:%S'),\n",
        "                    'Hand':user,\n",
        "                    'Result':result,\n",
        "                    'Streak':streak,\n",
        "                    'User':username})\n",
        "    stat = stat.append(newstat, ignore_index=True)\n",
        "def stat_disp():\n",
        "    stat.groupby('Hand').User.count().plot.pie(autopct=lambda p: '{:.2f}%({:.0f})'.format(p,(p/100)*stat.groupby('Hand').size().sum()),\n",
        "                                        figsize=(3,3),\n",
        "                                        fontsize=8,\n",
        "                                        ylabel='',\n",
        "                                        title='Hands')\n",
        "    winrate = round((stat.query('Result==\"Win\"').User.count() / stat.User.count()*100),2)\n",
        "    rate = stat.groupby(['Hand']).Result.value_counts(sort=True,ascending=False)\n",
        "    print(f\"Winrate: {winrate}%\")\n",
        "    print(rate)\n",
        "    print(stat)\n",
        "def win():\n",
        "    global streak\n",
        "    global result\n",
        "    print('Result : Win')\n",
        "    streak += 1\n",
        "    result = 'Win'\n",
        "    \n",
        "def lose():\n",
        "    global streak\n",
        "    global result\n",
        "    print('Result : Lose')\n",
        "    streak = 0\n",
        "    result = 'Lose'\n",
        "def draw():\n",
        "    global result\n",
        "    print('Result : Draw')\n",
        "    result = 'Draw'\n",
        "    \n",
        "    \n",
        "    "
      ]
    },
    {
      "cell_type": "markdown",
      "source": [
        "## Welcome Page"
      ],
      "metadata": {
        "id": "bZc0TpgMjh3t"
      }
    },
    {
      "cell_type": "code",
      "execution_count": 6,
      "metadata": {
        "id": "g2atq_5TYh28",
        "outputId": "da09af0b-4dad-4de2-c235-3c10bba433e1",
        "colab": {
          "base_uri": "https://localhost:8080/",
          "height": 1000
        }
      },
      "outputs": [
        {
          "output_type": "stream",
          "name": "stdout",
          "text": [
            "Welcome to Rock Paper Scissors game\n",
            "Please enter your name\n",
            "Name: tewst156\n",
            "Welcome TEWST156\n",
            "### Main menu ###\n",
            "(1) Start Game\n",
            "(2) Stats\n",
            "(3) Exit\n",
            "Please enter number: 1\n",
            "Streak: 0\n",
            "Choose your hand\n",
            "(1) Rock\n",
            "(2) Paper\n",
            "(3) Scissor\n",
            "(4) Main Menu\n",
            "Choose your hand: 2\n",
            "You Choose: Paper\n",
            "Com Choose: Paper\n",
            "Result : Draw\n",
            "Streak: 0\n",
            "Choose your hand\n",
            "(1) Rock\n",
            "(2) Paper\n",
            "(3) Scissor\n",
            "(4) Main Menu\n",
            "Choose your hand: 4\n",
            "### Main menu ###\n",
            "(1) Start Game\n",
            "(2) Stats\n",
            "(3) Exit\n",
            "Please enter number: 2\n",
            "Winrate: 0.0%\n",
            "Hand   Result\n",
            "Paper  Draw      1\n",
            "Name: Result, dtype: int64\n",
            "   Game_No                 Date   Hand Result  Streak      User\n",
            "0        1  2022-11-17 05:05:51  Paper   Draw       0  tewst156\n",
            "### Main menu ###\n",
            "(1) Start Game\n",
            "(2) Stats\n",
            "(3) Exit\n",
            "Please enter number: 3\n",
            "Thank you for playing\n",
            "### Main menu ###\n",
            "(1) Start Game\n",
            "(2) Stats\n",
            "(3) Exit\n",
            "Please enter number: 3\n",
            "Thank you for playing\n"
          ]
        },
        {
          "output_type": "display_data",
          "data": {
            "text/plain": [
              "<Figure size 216x216 with 1 Axes>"
            ],
            "image/png": "[encoded data removed]"
          },
          "metadata": {}
        }
      ],
      "source": [
        "stat = pd.DataFrame({'Game_No':pd.Series(dtype='int'),\n",
        "                'Date':pd.Series(dtype='str'),\n",
        "                'Hand':pd.Series(dtype='str'),\n",
        "                'Result':pd.Series(dtype='str'),\n",
        "                'Streak':pd.Series(dtype='int'),\n",
        "                'User':pd.Series(dtype='str')})\n",
        "gameno = 0\n",
        "streak = 0\n",
        "result = ''\n",
        "print('Welcome to Rock Paper Scissors game')\n",
        "print('Please enter your name')\n",
        "username = input('Name: ')\n",
        "print(f'Welcome {username.upper()}')\n",
        "sleep(0.1)\n",
        "mainmenu()"
      ]
    }
  ],
  "metadata": {
    "kernelspec": {
      "display_name": "Python 3.10.4 64-bit",
      "language": "python",
      "name": "python3"
    },
    "language_info": {
      "codemirror_mode": {
        "name": "ipython",
        "version": 3
      },
      "file_extension": ".py",
      "mimetype": "text/x-python",
      "name": "python",
      "nbconvert_exporter": "python",
      "pygments_lexer": "ipython3",
      "version": "3.10.4"
    },
    "orig_nbformat": 4,
    "vscode": {
      "interpreter": {
        "hash": "d3b6d1b24d13dcd67e8d0aecb7930b548a6af777b06877dd910e873153d0f7a3"
      }
    },
    "colab": {
      "provenance": [],
      "toc_visible": true,
      "include_colab_link": true
    }
  },
  "nbformat": 4,
  "nbformat_minor": 0
}