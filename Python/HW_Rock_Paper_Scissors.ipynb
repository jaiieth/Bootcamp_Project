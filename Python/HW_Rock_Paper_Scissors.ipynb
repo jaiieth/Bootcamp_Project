{
  "cells": [
    {
      "cell_type": "markdown",
      "metadata": {
        "id": "view-in-github",
        "colab_type": "text"
      },
      "source": [
        "<a href=\"https://colab.research.google.com/github/jaiieth/Bootcamp_Project/blob/main/Python/HW_Rock_Paper_Scissors.ipynb\" target=\"_parent\"><img src=\"https://colab.research.google.com/assets/colab-badge.svg\" alt=\"Open In Colab\"/></a>"
      ]
    },
    {
      "cell_type": "markdown",
      "source": [
        "## Import all essential libraries"
      ],
      "metadata": {
        "id": "j6h_yDkzjXdw"
      }
    },
    {
      "cell_type": "code",
      "execution_count": 1,
      "metadata": {
        "id": "ieyar6ozYh21"
      },
      "outputs": [],
      "source": [
        "from random import choice\n",
        "from datetime import datetime\n",
        "from time import sleep\n",
        "import pandas as pd\n",
        "import warnings\n",
        "warnings.simplefilter(action='ignore', category=FutureWarning)\n"
      ]
    },
    {
      "cell_type": "markdown",
      "source": [
        "## Define Functions"
      ],
      "metadata": {
        "id": "7q8x5U-qjcyq"
      }
    },
    {
      "cell_type": "code",
      "execution_count": null,
      "metadata": {
        "id": "csAJPJ0RYh27"
      },
      "outputs": [],
      "source": [
        "class hand:\n",
        "    hands = ['Rock','Paper','Scissors']\n",
        "    \n",
        "    #hand functions\n",
        "    def random():\n",
        "        return choice(hand.hands)\n",
        "    def choose():\n",
        "        select = int(input('Choose your hand'))\n",
        "        return hand.hands[select-1]\n",
        "        "
      ]
    },
    {
      "cell_type": "code",
      "execution_count": null,
      "metadata": {
        "id": "GWtsAqOHYh27"
      },
      "outputs": [],
      "source": [
        "class game:\n",
        "    # game functions\n",
        "    def mainmenu():\n",
        "        while True:\n",
        "            sleep(0.1)\n",
        "            print('### Main menu ###')\n",
        "            print('(1) Start Game')\n",
        "            print('(2) Stats')\n",
        "            print('(3) Exit')\n",
        "            menu_sel = input('Please enter number: ')\n",
        "            if not(menu_sel in ['1','2','3']):\n",
        "                print('Please enter number')\n",
        "            elif menu_sel == '1':\n",
        "                sleep(0.1)\n",
        "                game.play()\n",
        "            elif menu_sel == '2':\n",
        "                if len(stat)>0:\n",
        "                    game.stat()\n",
        "                else:\n",
        "                    print('No stat found')\n",
        "                    sleep(0.3)\n",
        "            else:\n",
        "                print('Thank you for playing')\n",
        "                break;\n",
        "        \n",
        "    def play():\n",
        "        goback = 0\n",
        "        while goback == 0:\n",
        "            print(f'Streak: {streak}')\n",
        "            print('Choose your hand')\n",
        "            print('(1) Rock')\n",
        "            print('(2) Paper')\n",
        "            print('(3) Scissor')\n",
        "            print('(4) Main Menu')\n",
        "            select = input('Choose your hand: ')\n",
        "            if not (select in ['1','2','3','4']):\n",
        "                select = input('Choose your hand: ')\n",
        "                sleep(0.3)\n",
        "            elif select in ['1','2','3']:\n",
        "                global gameno\n",
        "                gameno += 1\n",
        "                global user\n",
        "                user = hand.hands[int(select)-1]\n",
        "                com = hand.random()\n",
        "                print(f'You Choose: {user}')\n",
        "                sleep(0.3)\n",
        "                print(f'Com Choose: {com}')\n",
        "                sleep(0.3)\n",
        "                if (((user == hand.hands[0]) & (com == hand.hands[0]))|\n",
        "                    ((user == hand.hands[1]) & (com == hand.hands[1]))|\n",
        "                    ((user == hand.hands[2]) & (com == hand.hands[2]))):\n",
        "                    game.draw()\n",
        "                    game.save()\n",
        "                    sleep(0.3)\n",
        "                elif (((user == hand.hands[0]) & (com == hand.hands[1]))|\n",
        "                    ((user == hand.hands[1]) & (com == hand.hands[2]))|\n",
        "                    ((user == hand.hands[2]) & (com == hand.hands[0]))):\n",
        "                    game.lose()\n",
        "                    game.save()\n",
        "                    sleep(0.3)\n",
        "                else:\n",
        "                    game.win()\n",
        "                    game.save()\n",
        "                    sleep(0.3)\n",
        "            else: \n",
        "                goback = 1\n",
        "                game.mainmenu()          \n",
        "                sleep(0.3)   \n",
        "                \n",
        "    def save():\n",
        "        global stat\n",
        "        newstat = pd.Series({'Game_No':gameno,\n",
        "                     'Date':datetime.now().strftime('%Y-%m-%d %H:%M:%S'),\n",
        "                     'Hand':user,\n",
        "                     'Result':result,\n",
        "                     'Streak':streak,\n",
        "                     'User':username})\n",
        "        stat = stat.append(newstat, ignore_index=True)\n",
        "    def stat():\n",
        "        stat.groupby('Hand').User.count().plot.pie(autopct=lambda p: '{:.2f}%({:.0f})'.format(p,(p/100)*stat.groupby('Hand').size().sum()),\n",
        "                                           figsize=(3,3),\n",
        "                                           fontsize=8,\n",
        "                                           ylabel='',\n",
        "                                           title='Hands')\n",
        "        winrate = round((stat.query('Result==\"Win\"').User.count() / stat.User.count()*100),2)\n",
        "        rate = stat.groupby(['Hand']).Result.value_counts(sort=True,ascending=False)\n",
        "        print(f\"Winrate: {winrate}%\")\n",
        "        print(rate)\n",
        "        print(stat)\n",
        "    def win():\n",
        "        global streak\n",
        "        global result\n",
        "        print('Result : Win')\n",
        "        streak += 1\n",
        "        result = 'Win'\n",
        "        \n",
        "    def lose():\n",
        "        global streak\n",
        "        global result\n",
        "        print('Result : Lose')\n",
        "        streak = 0\n",
        "        result = 'Lose'\n",
        "    def draw():\n",
        "        global result\n",
        "        print('Result : Draw')\n",
        "        result = 'Draw'\n",
        "        \n",
        "        \n",
        "        "
      ]
    },
    {
      "cell_type": "markdown",
      "source": [
        "## Welcome Page"
      ],
      "metadata": {
        "id": "bZc0TpgMjh3t"
      }
    },
    {
      "cell_type": "code",
      "execution_count": null,
      "metadata": {
        "id": "g2atq_5TYh28"
      },
      "outputs": [],
      "source": [
        "    stat = pd.DataFrame({'Game_No':pd.Series(dtype='int'),\n",
        "                    'Date':pd.Series(dtype='str'),\n",
        "                    'Hand':pd.Series(dtype='str'),\n",
        "                    'Result':pd.Series(dtype='str'),\n",
        "                    'Streak':pd.Series(dtype='int'),\n",
        "                    'User':pd.Series(dtype='str')})\n",
        "    gameno = 0\n",
        "    streak = 0\n",
        "    result = ''\n",
        "print('Welcome to Rock Paper Scissors game')\n",
        "print('Please enter your name')\n",
        "username = input('Name')\n",
        "print(f'Welcome {username.upper()}')\n",
        "sleep(0.3)\n",
        "game.mainmenu()"
      ]
    }
  ],
  "metadata": {
    "kernelspec": {
      "display_name": "Python 3.10.4 64-bit",
      "language": "python",
      "name": "python3"
    },
    "language_info": {
      "codemirror_mode": {
        "name": "ipython",
        "version": 3
      },
      "file_extension": ".py",
      "mimetype": "text/x-python",
      "name": "python",
      "nbconvert_exporter": "python",
      "pygments_lexer": "ipython3",
      "version": "3.10.4"
    },
    "orig_nbformat": 4,
    "vscode": {
      "interpreter": {
        "hash": "d3b6d1b24d13dcd67e8d0aecb7930b548a6af777b06877dd910e873153d0f7a3"
      }
    },
    "colab": {
      "provenance": [],
      "toc_visible": true,
      "include_colab_link": true
    }
  },
  "nbformat": 4,
  "nbformat_minor": 0
}