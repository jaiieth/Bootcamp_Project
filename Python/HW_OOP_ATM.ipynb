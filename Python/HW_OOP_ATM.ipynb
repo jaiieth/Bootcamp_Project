{
  "nbformat": 4,
  "nbformat_minor": 0,
  "metadata": {
    "colab": {
      "provenance": [],
      "authorship_tag": "ABX9TyPEVMYcgBEb7mYLCbP0SXXY",
      "include_colab_link": true
    },
    "kernelspec": {
      "name": "python3",
      "display_name": "Python 3"
    },
    "language_info": {
      "name": "python"
    }
  },
  "cells": [
    {
      "cell_type": "markdown",
      "metadata": {
        "id": "view-in-github",
        "colab_type": "text"
      },
      "source": [
        "<a href=\"https://colab.research.google.com/github/jaiieth/Bootcamp_Project/blob/main/Python/HW_OOP_ATM.ipynb\" target=\"_parent\"><img src=\"https://colab.research.google.com/assets/colab-badge.svg\" alt=\"Open In Colab\"/></a>"
      ]
    },
    {
      "cell_type": "markdown",
      "source": [
        "## Define Functions"
      ],
      "metadata": {
        "id": "XD6M_-cTkjFn"
      }
    },
    {
      "cell_type": "code",
      "execution_count": null,
      "metadata": {
        "id": "5aTw23JSYges"
      },
      "outputs": [],
      "source": [
        "class atm:\n",
        "    def __init__(self, name, balance):\n",
        "        self.name = name\n",
        "        self.balance = balance\n",
        "        self.borrowed = 0\n",
        "        self.checkbalance()\n",
        "        self.max_ltv = 0.8 # Maximum Loan To Value ratio(LTV) 80%\n",
        "        \n",
        "    def setltv(self,ltv):\n",
        "        if 0 < ltv <= 1:\n",
        "            self.max_ltv = ltv\n",
        "            print(f'Set Maximum LTV Successful.\\nNew Maximum LTV: {self.max_ltv}')\n",
        "        else:\n",
        "            print('Please enter a number between 0 and 1')\n",
        "    def checkbalance(self): \n",
        "        self.ltv = self.borrowed/self.balance\n",
        "        message = f\"Account: {self.name}\\nBalance: {self.balance}\"\n",
        "        print(message)\n",
        "        print(f'Borrowed: {self.borrowed}')\n",
        "        print(f'LTV: {self.ltv}')\n",
        "        \n",
        "    def deposit(self, amount):\n",
        "        self.balance += amount\n",
        "        print(f'Deposit Successful. Amount: {amount}')\n",
        "        self.checkbalance()\n",
        "        \n",
        "    def withdraw(self, amount):\n",
        "        self.max_withdraw = self.balance-self.borrowed / self.max_ltv\n",
        "        if ((amount > self.balance)|(self.borrowed/(self.balance-amount) > self.max_ltv)): # Check withdrawal amount not exceed max LTV or account balance\n",
        "            print('Exceed withdrawal amount limit! Please try again')\n",
        "            print(f'Maximum withdrawal amout: {self.max_withdraw}')\n",
        "        else:\n",
        "            self.balance -= amount\n",
        "            print(f'Withdrawal Successful. Amount: {amount}')\n",
        "            self.checkbalance()\n",
        "            \n",
        "    def borrow(self, amount):\n",
        "        self.max_borrow = self.max_ltv*self.balance-self.borrowed\n",
        "        if (self.borrowed+amount)/self.balance > self.max_ltv: # Check borrowing amount within max LTV\n",
        "            print('Exceed borrowing amount limit!\\nPlease reduce the borrowing amount or deposit more asset') \n",
        "            print(f'Maximum borrowing amount: {self.max_borrow}')\n",
        "        else:\n",
        "            self.borrowed += amount\n",
        "            print(f'Borrowing Successful. Amount: {amount}')\n",
        "            self.checkbalance()\n",
        "            \n",
        "    def repay(self, amount):\n",
        "        if amount <= self.borrowed:\n",
        "            self.borrowed -= amount\n",
        "            print(f'Repay Successful. Amount: {amount}')\n",
        "            self.checkbalance()\n",
        "        else:\n",
        "            print(f'Exceed Repaying Limit!\\nPlease check your debt balance\\nBorrowing Balance: {self.borrowed}')      \n",
        "        \n",
        "            "
      ]
    },
    {
      "cell_type": "markdown",
      "source": [
        "## Function Testing"
      ],
      "metadata": {
        "id": "a397VjS5kldr"
      }
    },
    {
      "cell_type": "code",
      "source": [
        "mark = atm('Mark',500)\n",
        "mark.checkbalance()\n",
        "mark.deposit(1500)\n",
        "mark.borrow(20000)\n",
        "mark.borrow(1600)\n",
        "mark.withdraw(100)\n",
        "mark.repay(1700)\n",
        "mark.repay(1200)\n",
        "mark.withdraw(3000)\n",
        "mark.withdraw(150)\n",
        "mark.borrow(1080)\n",
        "mark.borrow(150)\n",
        "mark.setltv(1.5)\n",
        "mark.setltv(0.9)\n",
        "mark.borrow(150)\n",
        "mark.borrow(150)\n"
      ],
      "metadata": {
        "colab": {
          "base_uri": "https://localhost:8080/"
        },
        "id": "EYMCzgG3ZSas",
        "outputId": "8e7e0a0a-a05b-4019-c28c-a56dc0e6bfd9"
      },
      "execution_count": null,
      "outputs": [
        {
          "output_type": "stream",
          "name": "stdout",
          "text": [
            "Account: Mark\n",
            "Balance: 500\n",
            "Borrowed: 0\n",
            "LTV: 0.0\n",
            "Account: Mark\n",
            "Balance: 500\n",
            "Borrowed: 0\n",
            "LTV: 0.0\n",
            "Deposit Successful. Amount: 1500\n",
            "Account: Mark\n",
            "Balance: 2000\n",
            "Borrowed: 0\n",
            "LTV: 0.0\n",
            "Exceed borrowing amount limit!\n",
            "Please reduce the borrowing amount or deposit more asset\n",
            "Maximum borrowing amount: 1600.0\n",
            "Borrowing Successful. Amount: 1600\n",
            "Account: Mark\n",
            "Balance: 2000\n",
            "Borrowed: 1600\n",
            "LTV: 0.8\n",
            "Exceed withdrawal amount limit! Please try again\n",
            "Maximum withdrawal amout: 0.0\n",
            "Exceed Repaying Limit!\n",
            "Please check your debt balance\n",
            "Borrowing Balance: 1600\n",
            "Repay Successful. Amount: 1200\n",
            "Account: Mark\n",
            "Balance: 2000\n",
            "Borrowed: 400\n",
            "LTV: 0.2\n",
            "Exceed withdrawal amount limit! Please try again\n",
            "Maximum withdrawal amout: 1500.0\n",
            "Withdrawal Successful. Amount: 150\n",
            "Account: Mark\n",
            "Balance: 1850\n",
            "Borrowed: 400\n",
            "LTV: 0.21621621621621623\n",
            "Borrowing Successful. Amount: 1080\n",
            "Account: Mark\n",
            "Balance: 1850\n",
            "Borrowed: 1480\n",
            "LTV: 0.8\n",
            "Exceed borrowing amount limit!\n",
            "Please reduce the borrowing amount or deposit more asset\n",
            "Maximum borrowing amount: 0.0\n",
            "Please enter a number between 0 and 1\n",
            "Set Maximum LTV Successful.\n",
            "New Maximum LTV: 0.9\n",
            "Borrowing Successful. Amount: 150\n",
            "Account: Mark\n",
            "Balance: 1850\n",
            "Borrowed: 1630\n",
            "LTV: 0.8810810810810811\n",
            "Exceed borrowing amount limit!\n",
            "Please reduce the borrowing amount or deposit more asset\n",
            "Maximum borrowing amount: 35.0\n"
          ]
        }
      ]
    }
  ]
}